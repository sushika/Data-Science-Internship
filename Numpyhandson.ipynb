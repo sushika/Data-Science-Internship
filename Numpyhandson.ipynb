{
 "cells": [
  {
   "cell_type": "code",
   "execution_count": 1,
   "id": "0407b007",
   "metadata": {},
   "outputs": [],
   "source": [
    "#numpy is a python library used for working with arrays. \n",
    "#The array object in numpy is called ndarray and arrays are stored at one continous place in memory \n",
    "#unlike the lists thus processes can access and manipulate them very easily.\n",
    "#we can perform mathematical and logical operations\n",
    "import numpy as np\n"
   ]
  },
  {
   "cell_type": "code",
   "execution_count": 43,
   "id": "18d26327",
   "metadata": {},
   "outputs": [
    {
     "name": "stdout",
     "output_type": "stream",
     "text": [
      "[1 2 3 4 5]\n",
      "<class 'numpy.ndarray'>\n",
      "90\n",
      "0\n",
      "1\n",
      "2\n",
      "[4 7 6 5 3 4]\n",
      "dimensions of array (1, 1, 1, 1, 1, 6)\n",
      "[2 4]\n",
      "[b'1' b'2' b'3' b'4']\n",
      "|S1\n",
      "[array([[1, 2],\n",
      "       [3, 4]]), array([[5, 6],\n",
      "       [7, 8]]), array([[ 9, 10],\n",
      "       [11, 12]])]\n",
      "[array([[ 1],\n",
      "       [ 4],\n",
      "       [ 7],\n",
      "       [10],\n",
      "       [13],\n",
      "       [16]]), array([[ 2],\n",
      "       [ 5],\n",
      "       [ 8],\n",
      "       [11],\n",
      "       [14],\n",
      "       [17]]), array([[ 3],\n",
      "       [ 6],\n",
      "       [ 9],\n",
      "       [12],\n",
      "       [15],\n",
      "       [18]])]\n"
     ]
    }
   ],
   "source": [
    "arr = np.array([1,2,3,4,5])#to create an ndarray we can give the list/tuple or any array object into the array() method ,\n",
    "#which thereby converts the list/tuple/array to an ndarray.\n",
    "print(arr)\n",
    "print(type(arr))#gives the type of numpy arrays which is ndarray\n",
    "#creating arrays of various dimensions\n",
    "a = np.array(24)\n",
    "b= np.array([23,31])\n",
    "c= np.array([[34,65,47],[34,78,90]])\n",
    "print(c[1,2])#prints the 3rd element on the 2nd row\n",
    "print(a.ndim)\n",
    "print(b.ndim)\n",
    "print(c.ndim)\n",
    "#creating array of any no.of dimensions using ndmin attribute\n",
    "arr = np.array([4,7,6,5,3,4],ndmin = 6)\n",
    "print(arr.base)#interpretes whether its a copy or a view if none is returned its considered a view,\n",
    "#incase it returns the same array its considered a copy\n",
    "print('dimensions of array',arr.shape)#finding the shape of the array using shape attribute\n",
    "arr = np.array([1, 2, 3, 4, 5, 6, 7])\n",
    "print(arr[1:5:2])#return every other element from index 1 to index 5\n",
    "arr = np.array([1, 2, 3, 4], dtype='S')#an array of datatype String is created \n",
    "print(arr)\n",
    "print(arr.dtype)\n",
    "arr = np.array([[1, 2], [3, 4], [5, 6], [7, 8], [9, 10], [11, 12]])\n",
    "newarr = np.array_split(arr, 3)\n",
    "print(newarr)\n",
    "#The example below returns three 2-D arrays, but they are split along the row using hsplit() function\n",
    "arr = np.array([[1, 2, 3], [4, 5, 6], [7, 8, 9], [10, 11, 12], [13, 14, 15], [16, 17, 18]])\n",
    "arr = np.hsplit(arr, 3)\n",
    "print(arr)\n"
   ]
  },
  {
   "cell_type": "code",
   "execution_count": 21,
   "id": "5d28af99",
   "metadata": {},
   "outputs": [
    {
     "name": "stdout",
     "output_type": "stream",
     "text": [
      "sorted array [  1   8  21  63 237 654 733 742]\n",
      "[True, False, True, True, True, False, True, False]\n",
      "[  1  21  63 237 733]\n",
      "(array([1, 5, 7], dtype=int64),)\n"
     ]
    }
   ],
   "source": [
    "#iterating arrays\n",
    "import numpy as np\n",
    "arr = np.array([1, 742, 733, 237,654, 8, 63, 21])\n",
    "#sort the array\n",
    "arr = np.sort(arr)\n",
    "print('sorted array',arr)\n",
    "\n",
    "# Create an empty list\n",
    "emptyarr = []\n",
    "# go through each element in arr\n",
    "for element in arr:\n",
    "  # if the element is odd, set the value to True, otherwise False:\n",
    "  if element%2==1:\n",
    "    emptyarr.append(True)\n",
    "  else:\n",
    "    emptyarr.append(False)\n",
    "\n",
    "oddarr = arr[emptyarr]\n",
    "\n",
    "print(emptyarr)\n",
    "print(oddarr)\n",
    "#serching in even number in ndarrays using where method\n",
    "evenarr = np.where(arr%2 == 0)\n",
    "print(evenarr)#returns the indices in which even numbers are present\n",
    "\n",
    "\n"
   ]
  },
  {
   "cell_type": "code",
   "execution_count": 36,
   "id": "726b1b1d",
   "metadata": {},
   "outputs": [],
   "source": [
    "#generating random numbers using random module of numpy\n",
    "from numpy import random\n",
    "import numpy as np"
   ]
  },
  {
   "cell_type": "code",
   "execution_count": 39,
   "id": "54e11cfb",
   "metadata": {},
   "outputs": [
    {
     "name": "stdout",
     "output_type": "stream",
     "text": [
      "23\n",
      "[20  6 55]\n",
      "[0.83568932 0.22800624 0.6608494  0.28885026 0.32068462 0.99053804\n",
      " 0.07585125 0.58421789 0.23113761 0.69623157]\n",
      "[3 4 2 1 5]\n",
      "[1 3 2 5 4]\n"
     ]
    }
   ],
   "source": [
    "a = random.randint(25)#generates an integer randomly from 0 to 25\n",
    "print(a)\n",
    "x=random.randint(60,size=(3))# generates a random array containing 3 random integers from 0 to 60\n",
    "print(x)\n",
    "b= random.rand(10) #generates a random float from 0 to 10\n",
    "print(b)\n",
    "arr = random.choice([8, 5, 2, 10], size=(3, 5))#generates a 2d array of 3 rows containing 5 elements each from the given choice of array\n",
    "x = random.choice([3,7,8,9,3],p = [0.1,0.2,0.5,0.1,0.1],size=(3,5))#generates a 2d array with the given choice according to the probability\n",
    "arr = np.array([1, 2, 3, 4, 5])\n",
    "random.shuffle(arr)#the shuffle() method makes changes to the original array,it changes the arrangement of the elements.\n",
    "print(arr)\n",
    "print(random.permutation(arr))#The permutation() method returns a re-arranged array and leaves the original array un-changed\n"
   ]
  },
  {
   "cell_type": "code",
   "execution_count": null,
   "id": "99e536bb",
   "metadata": {},
   "outputs": [],
   "source": []
  }
 ],
 "metadata": {
  "kernelspec": {
   "display_name": "Python 3 (ipykernel)",
   "language": "python",
   "name": "python3"
  },
  "language_info": {
   "codemirror_mode": {
    "name": "ipython",
    "version": 3
   },
   "file_extension": ".py",
   "mimetype": "text/x-python",
   "name": "python",
   "nbconvert_exporter": "python",
   "pygments_lexer": "ipython3",
   "version": "3.9.12"
  }
 },
 "nbformat": 4,
 "nbformat_minor": 5
}
