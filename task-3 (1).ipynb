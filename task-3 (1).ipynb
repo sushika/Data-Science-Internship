{
 "cells": [
  {
   "cell_type": "code",
   "execution_count": 9,
   "id": "213f5acc",
   "metadata": {},
   "outputs": [
    {
     "name": "stdout",
     "output_type": "stream",
     "text": [
      "<class 'pandas.core.frame.DataFrame'>\n",
      "RangeIndex: 201 entries, 0 to 200\n",
      "Data columns (total 26 columns):\n",
      " #   Column             Non-Null Count  Dtype  \n",
      "---  ------             --------------  -----  \n",
      " 0   symboling          201 non-null    int64  \n",
      " 1   normalized-losses  164 non-null    float64\n",
      " 2   make               201 non-null    object \n",
      " 3   fuel-type          201 non-null    object \n",
      " 4   aspiration         201 non-null    object \n",
      " 5   num-of-doors       199 non-null    object \n",
      " 6   body-style         201 non-null    object \n",
      " 7   drive-wheels       201 non-null    object \n",
      " 8   engine-location    201 non-null    object \n",
      " 9   wheel-base         201 non-null    float64\n",
      " 10  length             201 non-null    float64\n",
      " 11  width              201 non-null    float64\n",
      " 12  height             201 non-null    float64\n",
      " 13  curb-weight        201 non-null    int64  \n",
      " 14  engine-type        201 non-null    object \n",
      " 15  num-of-cylinders   201 non-null    object \n",
      " 16  engine-size        201 non-null    int64  \n",
      " 17  fuel-system        201 non-null    object \n",
      " 18  bore               197 non-null    float64\n",
      " 19  stroke             197 non-null    float64\n",
      " 20  compression-ratio  201 non-null    float64\n",
      " 21  horsepower         199 non-null    float64\n",
      " 22  peak-rpm           199 non-null    float64\n",
      " 23  city-mpg           201 non-null    int64  \n",
      " 24  highway-mpg        201 non-null    int64  \n",
      " 25  price              201 non-null    int64  \n",
      "dtypes: float64(10), int64(6), object(10)\n",
      "memory usage: 41.0+ KB\n",
      "None\n",
      "0    four\n",
      "Name: num-of-doors, dtype: object\n"
     ]
    }
   ],
   "source": [
    "import pandas as pd\n",
    "import statistics as st\n",
    "#Create a Dictionary of series\n",
    "df = pd.read_csv('automobile.csv')\n",
    "print(df.info())\n",
    "print(df['num-of-doors'].mode())"
   ]
  },
  {
   "cell_type": "code",
   "execution_count": 14,
   "id": "717b4e8a",
   "metadata": {},
   "outputs": [
    {
     "name": "stdout",
     "output_type": "stream",
     "text": [
      "mean of horsepower in the given dataset 103.39698492462311\n",
      "harmonic mean of horsepower in the given dataset 23.631995367094355\n"
     ]
    }
   ],
   "source": [
    "print('mean of horsepower in the given dataset',df['horsepower'].mean())\n",
    "print('harmonic mean of city-mpg in the given dataset',st.harmonic_mean(df['city-mpg']))"
   ]
  },
  {
   "cell_type": "code",
   "execution_count": 7,
   "id": "05391e90",
   "metadata": {},
   "outputs": [
    {
     "name": "stdout",
     "output_type": "stream",
     "text": [
      "median of horsepower in the given dataset 5200.0\n"
     ]
    }
   ],
   "source": [
    "print('median of horsepower in the given dataset',df['peak-rpm'].median())"
   ]
  },
  {
   "cell_type": "code",
   "execution_count": 10,
   "id": "e292fde5",
   "metadata": {},
   "outputs": [
    {
     "name": "stdout",
     "output_type": "stream",
     "text": [
      "41.257761194029854\n"
     ]
    }
   ],
   "source": [
    "'''variance is how different are the data points from the mean'''\n",
    "print(st.variance(df['city-mpg']))"
   ]
  },
  {
   "cell_type": "code",
   "execution_count": 15,
   "id": "0d21b464",
   "metadata": {},
   "outputs": [
    {
     "name": "stdout",
     "output_type": "stream",
     "text": [
      "symboling               1.254802\n",
      "normalized-losses      35.442168\n",
      "wheel-base              6.066366\n",
      "length                 12.322175\n",
      "width                   2.101471\n",
      "height                  2.447822\n",
      "curb-weight           517.296727\n",
      "engine-size            41.546834\n",
      "bore                    0.270793\n",
      "stroke                  0.319256\n",
      "compression-ratio       4.004965\n",
      "horsepower             37.553843\n",
      "peak-rpm              480.521824\n",
      "city-mpg                6.423220\n",
      "highway-mpg             6.815150\n",
      "price                7947.066342\n",
      "dtype: float64\n"
     ]
    },
    {
     "name": "stderr",
     "output_type": "stream",
     "text": [
      "C:\\Users\\vises\\AppData\\Local\\Temp\\ipykernel_23768\\2597523637.py:1: FutureWarning: Dropping of nuisance columns in DataFrame reductions (with 'numeric_only=None') is deprecated; in a future version this will raise TypeError.  Select only valid columns before calling the reduction.\n",
      "  print(df.std())\n"
     ]
    }
   ],
   "source": [
    "print(df.std())"
   ]
  },
  {
   "cell_type": "code",
   "execution_count": 16,
   "id": "ca392452",
   "metadata": {},
   "outputs": [
    {
     "name": "stdout",
     "output_type": "stream",
     "text": [
      "symboling            0.197370\n",
      "normalized-losses    0.765976\n",
      "wheel-base           1.031261\n",
      "length               0.154446\n",
      "width                0.875029\n",
      "height               0.029173\n",
      "curb-weight          0.705804\n",
      "engine-size          1.979144\n",
      "bore                -0.032622\n",
      "stroke              -0.693778\n",
      "compression-ratio    2.584462\n",
      "horsepower           1.141584\n",
      "peak-rpm             0.107729\n",
      "city-mpg             0.680433\n",
      "highway-mpg          0.549507\n",
      "price                1.809675\n",
      "dtype: float64\n"
     ]
    },
    {
     "name": "stderr",
     "output_type": "stream",
     "text": [
      "C:\\Users\\vises\\AppData\\Local\\Temp\\ipykernel_23768\\2101063391.py:3: FutureWarning: Dropping of nuisance columns in DataFrame reductions (with 'numeric_only=None') is deprecated; in a future version this will raise TypeError.  Select only valid columns before calling the reduction.\n",
      "  print(df.skew())\n"
     ]
    }
   ],
   "source": [
    "'''A value less than -1 is skewed to the left; that greater than 1\n",
    "is skewed to the right. A value between -1 and 1 is symmetric.'''\n",
    "print(df.skew())"
   ]
  },
  {
   "cell_type": "code",
   "execution_count": 19,
   "id": "0e847beb",
   "metadata": {},
   "outputs": [
    {
     "name": "stdout",
     "output_type": "stream",
     "text": [
      "                   symboling  normalized-losses  wheel-base    length  \\\n",
      "symboling           1.000000           0.528667   -0.535987 -0.365404   \n",
      "normalized-losses   0.528667           1.000000   -0.074362  0.023220   \n",
      "wheel-base         -0.535987          -0.074362    1.000000  0.876024   \n",
      "length             -0.365404           0.023220    0.876024  1.000000   \n",
      "width              -0.242423           0.105073    0.814507  0.857170   \n",
      "height             -0.550160          -0.432335    0.590742  0.492063   \n",
      "curb-weight        -0.233118           0.119893    0.782097  0.880665   \n",
      "engine-size        -0.110581           0.167365    0.572027  0.685025   \n",
      "bore               -0.144324          -0.036167    0.494884  0.610051   \n",
      "stroke             -0.008245           0.065627    0.158502  0.124139   \n",
      "compression-ratio  -0.182196          -0.132654    0.250313  0.159733   \n",
      "horsepower          0.076038           0.295772    0.371621  0.580309   \n",
      "peak-rpm            0.280635           0.264597   -0.360593 -0.286321   \n",
      "city-mpg           -0.035527          -0.258502   -0.470606 -0.665192   \n",
      "highway-mpg         0.036233          -0.210768   -0.543304 -0.698142   \n",
      "price              -0.082391           0.203254    0.584642  0.690628   \n",
      "\n",
      "                      width    height  curb-weight  engine-size      bore  \\\n",
      "symboling         -0.242423 -0.550160    -0.233118    -0.110581 -0.144324   \n",
      "normalized-losses  0.105073 -0.432335     0.119893     0.167365 -0.036167   \n",
      "wheel-base         0.814507  0.590742     0.782097     0.572027  0.494884   \n",
      "length             0.857170  0.492063     0.880665     0.685025  0.610051   \n",
      "width              1.000000  0.306002     0.866201     0.729436  0.544924   \n",
      "height             0.306002  1.000000     0.307581     0.074694  0.185907   \n",
      "curb-weight        0.866201  0.307581     1.000000     0.849072  0.644617   \n",
      "engine-size        0.729436  0.074694     0.849072     1.000000  0.582857   \n",
      "bore               0.544924  0.185907     0.644617     0.582857  1.000000   \n",
      "stroke             0.188829 -0.062704     0.167562     0.209523 -0.055390   \n",
      "compression-ratio  0.189867  0.259737     0.156433     0.028889  0.001250   \n",
      "horsepower         0.615315 -0.087407     0.758063     0.822713  0.568527   \n",
      "peak-rpm          -0.245975 -0.311574    -0.279375    -0.256773 -0.277662   \n",
      "city-mpg          -0.633531 -0.049800    -0.749543    -0.650546 -0.592655   \n",
      "highway-mpg       -0.680635 -0.104812    -0.794889    -0.679571 -0.599218   \n",
      "price              0.751265  0.135486     0.834415     0.872335  0.543436   \n",
      "\n",
      "                     stroke  compression-ratio  horsepower  peak-rpm  \\\n",
      "symboling         -0.008245          -0.182196    0.076038  0.280635   \n",
      "normalized-losses  0.065627          -0.132654    0.295772  0.264597   \n",
      "wheel-base         0.158502           0.250313    0.371621 -0.360593   \n",
      "length             0.124139           0.159733    0.580309 -0.286321   \n",
      "width              0.188829           0.189867    0.615315 -0.245975   \n",
      "height            -0.062704           0.259737   -0.087407 -0.311574   \n",
      "curb-weight        0.167562           0.156433    0.758063 -0.279375   \n",
      "engine-size        0.209523           0.028889    0.822713 -0.256773   \n",
      "bore              -0.055390           0.001250    0.568527 -0.277662   \n",
      "stroke             1.000000           0.187923    0.100040 -0.068300   \n",
      "compression-ratio  0.187923           1.000000   -0.214576 -0.436015   \n",
      "horsepower         0.100040          -0.214576    1.000000  0.107882   \n",
      "peak-rpm          -0.068300          -0.436015    0.107882  1.000000   \n",
      "city-mpg          -0.034696           0.331425   -0.822617 -0.115425   \n",
      "highway-mpg       -0.035201           0.268465   -0.804596 -0.058606   \n",
      "price              0.082310           0.071107    0.810533 -0.101649   \n",
      "\n",
      "                   city-mpg  highway-mpg     price  \n",
      "symboling         -0.035527     0.036233 -0.082391  \n",
      "normalized-losses -0.258502    -0.210768  0.203254  \n",
      "wheel-base        -0.470606    -0.543304  0.584642  \n",
      "length            -0.665192    -0.698142  0.690628  \n",
      "width             -0.633531    -0.680635  0.751265  \n",
      "height            -0.049800    -0.104812  0.135486  \n",
      "curb-weight       -0.749543    -0.794889  0.834415  \n",
      "engine-size       -0.650546    -0.679571  0.872335  \n",
      "bore              -0.592655    -0.599218  0.543436  \n",
      "stroke            -0.034696    -0.035201  0.082310  \n",
      "compression-ratio  0.331425     0.268465  0.071107  \n",
      "horsepower        -0.822617    -0.804596  0.810533  \n",
      "peak-rpm          -0.115425    -0.058606 -0.101649  \n",
      "city-mpg           1.000000     0.972044 -0.686571  \n",
      "highway-mpg        0.972044     1.000000 -0.704692  \n",
      "price             -0.686571    -0.704692  1.000000  \n"
     ]
    },
    {
     "data": {
      "text/plain": [
       "'The corr() method calculates the relationship between each column in our data set'"
      ]
     },
     "execution_count": 19,
     "metadata": {},
     "output_type": "execute_result"
    }
   ],
   "source": [
    "print(df.corr())\n",
    "'''The corr() method calculates the relationship between each column in our data set'''"
   ]
  },
  {
   "cell_type": "code",
   "execution_count": 2,
   "id": "fcad7dd9",
   "metadata": {},
   "outputs": [
    {
     "data": {
      "text/plain": [
       "'Univariate analysis is analysing one variable precisely univariate analysis can be done by measuring the central tendency, frequency tables,and by visualizing the data.\\nfor visualization purpose we can use boxplot or histograms or density plots etc...\\n'"
      ]
     },
     "execution_count": 2,
     "metadata": {},
     "output_type": "execute_result"
    }
   ],
   "source": [
    "'''Univariate analysis is analysing one variable precisely univariate analysis can be done by measuring the central tendency, frequency tables,and by visualizing the data.\n",
    "for visualization purpose we can use boxplot or histograms or density plots etc...\n",
    "'''"
   ]
  },
  {
   "cell_type": "code",
   "execution_count": 13,
   "id": "64da67e9",
   "metadata": {},
   "outputs": [],
   "source": [
    "import pandas as pd\n",
    "import matplotlib\n",
    "from matplotlib import pyplot as plt\n",
    "import seaborn as sns"
   ]
  },
  {
   "cell_type": "code",
   "execution_count": 30,
   "id": "e59a797f",
   "metadata": {},
   "outputs": [
    {
     "name": "stdout",
     "output_type": "stream",
     "text": [
      "8921     2\n",
      "18150    2\n",
      "8845     2\n",
      "8495     2\n",
      "7609     2\n",
      "        ..\n",
      "45400    1\n",
      "16503    1\n",
      "5389     1\n",
      "6189     1\n",
      "22625    1\n",
      "Name: price, Length: 186, dtype: int64\n"
     ]
    },
    {
     "data": {
      "text/plain": [
       "<AxesSubplot:xlabel='Count', ylabel='price'>"
      ]
     },
     "execution_count": 30,
     "metadata": {},
     "output_type": "execute_result"
    },
    {
     "data": {
      "image/png": "[encoded data removed]",
      "text/plain": [
       "<Figure size 432x288 with 1 Axes>"
      ]
     },
     "metadata": {
      "needs_background": "light"
     },
     "output_type": "display_data"
    }
   ],
   "source": [
    "#loading the dataset\n",
    "df =pd.read_csv('automobile.csv')\n",
    "#finding the frequency\n",
    "print(df['price'].value_counts())\n",
    "#histogram\n",
    "sns.histplot(y=df['price'])"
   ]
  },
  {
   "cell_type": "code",
   "execution_count": 26,
   "id": "866fa3d9",
   "metadata": {},
   "outputs": [
    {
     "data": {
      "text/plain": [
       "<AxesSubplot:ylabel='price'>"
      ]
     },
     "execution_count": 26,
     "metadata": {},
     "output_type": "execute_result"
    },
    {
     "data": {
      "image/png": "[encoded data removed]",
      "text/plain": [
       "<Figure size 432x288 with 1 Axes>"
      ]
     },
     "metadata": {
      "needs_background": "light"
     },
     "output_type": "display_data"
    }
   ],
   "source": [
    "#boxplot\n",
    "sns.boxplot(y=df['price'])"
   ]
  },
  {
   "cell_type": "code",
   "execution_count": 27,
   "id": "7b232d93",
   "metadata": {},
   "outputs": [
    {
     "data": {
      "text/plain": [
       "'Bivariate analysis is used to find the relationship between two dependent variables Bivariate analysis can be done using coefficient of correlation and using linear regression'"
      ]
     },
     "execution_count": 27,
     "metadata": {},
     "output_type": "execute_result"
    }
   ],
   "source": [
    "'''Bivariate analysis is used to find the relationship between two dependent variables Bivariate analysis can be done using coefficient of correlation and using linear regression'''"
   ]
  },
  {
   "cell_type": "code",
   "execution_count": 31,
   "id": "98add32a",
   "metadata": {},
   "outputs": [
    {
     "data": {
      "text/plain": [
       "<matplotlib.collections.PathCollection at 0x1d17a7f3190>"
      ]
     },
     "execution_count": 31,
     "metadata": {},
     "output_type": "execute_result"
    },
    {
     "data": {
      "image/png": "[encoded data removed]",
      "text/plain": [
       "<Figure size 432x288 with 1 Axes>"
      ]
     },
     "metadata": {
      "needs_background": "light"
     },
     "output_type": "display_data"
    }
   ],
   "source": [
    "plt.scatter(df.price, df.horsepower)\n",
    "#scatterplot"
   ]
  },
  {
   "cell_type": "code",
   "execution_count": 29,
   "id": "c90a248a",
   "metadata": {},
   "outputs": [
    {
     "data": {
      "text/html": [
       "<div>\n",
       "<style scoped>\n",
       "    .dataframe tbody tr th:only-of-type {\n",
       "        vertical-align: middle;\n",
       "    }\n",
       "\n",
       "    .dataframe tbody tr th {\n",
       "        vertical-align: top;\n",
       "    }\n",
       "\n",
       "    .dataframe thead th {\n",
       "        text-align: right;\n",
       "    }\n",
       "</style>\n",
       "<table border=\"1\" class=\"dataframe\">\n",
       "  <thead>\n",
       "    <tr style=\"text-align: right;\">\n",
       "      <th></th>\n",
       "      <th>symboling</th>\n",
       "      <th>normalized-losses</th>\n",
       "      <th>wheel-base</th>\n",
       "      <th>length</th>\n",
       "      <th>width</th>\n",
       "      <th>height</th>\n",
       "      <th>curb-weight</th>\n",
       "      <th>engine-size</th>\n",
       "      <th>bore</th>\n",
       "      <th>stroke</th>\n",
       "      <th>compression-ratio</th>\n",
       "      <th>horsepower</th>\n",
       "      <th>peak-rpm</th>\n",
       "      <th>city-mpg</th>\n",
       "      <th>highway-mpg</th>\n",
       "      <th>price</th>\n",
       "    </tr>\n",
       "  </thead>\n",
       "  <tbody>\n",
       "    <tr>\n",
       "      <th>symboling</th>\n",
       "      <td>1.000000</td>\n",
       "      <td>0.528667</td>\n",
       "      <td>-0.535987</td>\n",
       "      <td>-0.365404</td>\n",
       "      <td>-0.242423</td>\n",
       "      <td>-0.550160</td>\n",
       "      <td>-0.233118</td>\n",
       "      <td>-0.110581</td>\n",
       "      <td>-0.144324</td>\n",
       "      <td>-0.008245</td>\n",
       "      <td>-0.182196</td>\n",
       "      <td>0.076038</td>\n",
       "      <td>0.280635</td>\n",
       "      <td>-0.035527</td>\n",
       "      <td>0.036233</td>\n",
       "      <td>-0.082391</td>\n",
       "    </tr>\n",
       "    <tr>\n",
       "      <th>normalized-losses</th>\n",
       "      <td>0.528667</td>\n",
       "      <td>1.000000</td>\n",
       "      <td>-0.074362</td>\n",
       "      <td>0.023220</td>\n",
       "      <td>0.105073</td>\n",
       "      <td>-0.432335</td>\n",
       "      <td>0.119893</td>\n",
       "      <td>0.167365</td>\n",
       "      <td>-0.036167</td>\n",
       "      <td>0.065627</td>\n",
       "      <td>-0.132654</td>\n",
       "      <td>0.295772</td>\n",
       "      <td>0.264597</td>\n",
       "      <td>-0.258502</td>\n",
       "      <td>-0.210768</td>\n",
       "      <td>0.203254</td>\n",
       "    </tr>\n",
       "    <tr>\n",
       "      <th>wheel-base</th>\n",
       "      <td>-0.535987</td>\n",
       "      <td>-0.074362</td>\n",
       "      <td>1.000000</td>\n",
       "      <td>0.876024</td>\n",
       "      <td>0.814507</td>\n",
       "      <td>0.590742</td>\n",
       "      <td>0.782097</td>\n",
       "      <td>0.572027</td>\n",
       "      <td>0.494884</td>\n",
       "      <td>0.158502</td>\n",
       "      <td>0.250313</td>\n",
       "      <td>0.371621</td>\n",
       "      <td>-0.360593</td>\n",
       "      <td>-0.470606</td>\n",
       "      <td>-0.543304</td>\n",
       "      <td>0.584642</td>\n",
       "    </tr>\n",
       "    <tr>\n",
       "      <th>length</th>\n",
       "      <td>-0.365404</td>\n",
       "      <td>0.023220</td>\n",
       "      <td>0.876024</td>\n",
       "      <td>1.000000</td>\n",
       "      <td>0.857170</td>\n",
       "      <td>0.492063</td>\n",
       "      <td>0.880665</td>\n",
       "      <td>0.685025</td>\n",
       "      <td>0.610051</td>\n",
       "      <td>0.124139</td>\n",
       "      <td>0.159733</td>\n",
       "      <td>0.580309</td>\n",
       "      <td>-0.286321</td>\n",
       "      <td>-0.665192</td>\n",
       "      <td>-0.698142</td>\n",
       "      <td>0.690628</td>\n",
       "    </tr>\n",
       "    <tr>\n",
       "      <th>width</th>\n",
       "      <td>-0.242423</td>\n",
       "      <td>0.105073</td>\n",
       "      <td>0.814507</td>\n",
       "      <td>0.857170</td>\n",
       "      <td>1.000000</td>\n",
       "      <td>0.306002</td>\n",
       "      <td>0.866201</td>\n",
       "      <td>0.729436</td>\n",
       "      <td>0.544924</td>\n",
       "      <td>0.188829</td>\n",
       "      <td>0.189867</td>\n",
       "      <td>0.615315</td>\n",
       "      <td>-0.245975</td>\n",
       "      <td>-0.633531</td>\n",
       "      <td>-0.680635</td>\n",
       "      <td>0.751265</td>\n",
       "    </tr>\n",
       "    <tr>\n",
       "      <th>height</th>\n",
       "      <td>-0.550160</td>\n",
       "      <td>-0.432335</td>\n",
       "      <td>0.590742</td>\n",
       "      <td>0.492063</td>\n",
       "      <td>0.306002</td>\n",
       "      <td>1.000000</td>\n",
       "      <td>0.307581</td>\n",
       "      <td>0.074694</td>\n",
       "      <td>0.185907</td>\n",
       "      <td>-0.062704</td>\n",
       "      <td>0.259737</td>\n",
       "      <td>-0.087407</td>\n",
       "      <td>-0.311574</td>\n",
       "      <td>-0.049800</td>\n",
       "      <td>-0.104812</td>\n",
       "      <td>0.135486</td>\n",
       "    </tr>\n",
       "    <tr>\n",
       "      <th>curb-weight</th>\n",
       "      <td>-0.233118</td>\n",
       "      <td>0.119893</td>\n",
       "      <td>0.782097</td>\n",
       "      <td>0.880665</td>\n",
       "      <td>0.866201</td>\n",
       "      <td>0.307581</td>\n",
       "      <td>1.000000</td>\n",
       "      <td>0.849072</td>\n",
       "      <td>0.644617</td>\n",
       "      <td>0.167562</td>\n",
       "      <td>0.156433</td>\n",
       "      <td>0.758063</td>\n",
       "      <td>-0.279375</td>\n",
       "      <td>-0.749543</td>\n",
       "      <td>-0.794889</td>\n",
       "      <td>0.834415</td>\n",
       "    </tr>\n",
       "    <tr>\n",
       "      <th>engine-size</th>\n",
       "      <td>-0.110581</td>\n",
       "      <td>0.167365</td>\n",
       "      <td>0.572027</td>\n",
       "      <td>0.685025</td>\n",
       "      <td>0.729436</td>\n",
       "      <td>0.074694</td>\n",
       "      <td>0.849072</td>\n",
       "      <td>1.000000</td>\n",
       "      <td>0.582857</td>\n",
       "      <td>0.209523</td>\n",
       "      <td>0.028889</td>\n",
       "      <td>0.822713</td>\n",
       "      <td>-0.256773</td>\n",
       "      <td>-0.650546</td>\n",
       "      <td>-0.679571</td>\n",
       "      <td>0.872335</td>\n",
       "    </tr>\n",
       "    <tr>\n",
       "      <th>bore</th>\n",
       "      <td>-0.144324</td>\n",
       "      <td>-0.036167</td>\n",
       "      <td>0.494884</td>\n",
       "      <td>0.610051</td>\n",
       "      <td>0.544924</td>\n",
       "      <td>0.185907</td>\n",
       "      <td>0.644617</td>\n",
       "      <td>0.582857</td>\n",
       "      <td>1.000000</td>\n",
       "      <td>-0.055390</td>\n",
       "      <td>0.001250</td>\n",
       "      <td>0.568527</td>\n",
       "      <td>-0.277662</td>\n",
       "      <td>-0.592655</td>\n",
       "      <td>-0.599218</td>\n",
       "      <td>0.543436</td>\n",
       "    </tr>\n",
       "    <tr>\n",
       "      <th>stroke</th>\n",
       "      <td>-0.008245</td>\n",
       "      <td>0.065627</td>\n",
       "      <td>0.158502</td>\n",
       "      <td>0.124139</td>\n",
       "      <td>0.188829</td>\n",
       "      <td>-0.062704</td>\n",
       "      <td>0.167562</td>\n",
       "      <td>0.209523</td>\n",
       "      <td>-0.055390</td>\n",
       "      <td>1.000000</td>\n",
       "      <td>0.187923</td>\n",
       "      <td>0.100040</td>\n",
       "      <td>-0.068300</td>\n",
       "      <td>-0.034696</td>\n",
       "      <td>-0.035201</td>\n",
       "      <td>0.082310</td>\n",
       "    </tr>\n",
       "    <tr>\n",
       "      <th>compression-ratio</th>\n",
       "      <td>-0.182196</td>\n",
       "      <td>-0.132654</td>\n",
       "      <td>0.250313</td>\n",
       "      <td>0.159733</td>\n",
       "      <td>0.189867</td>\n",
       "      <td>0.259737</td>\n",
       "      <td>0.156433</td>\n",
       "      <td>0.028889</td>\n",
       "      <td>0.001250</td>\n",
       "      <td>0.187923</td>\n",
       "      <td>1.000000</td>\n",
       "      <td>-0.214576</td>\n",
       "      <td>-0.436015</td>\n",
       "      <td>0.331425</td>\n",
       "      <td>0.268465</td>\n",
       "      <td>0.071107</td>\n",
       "    </tr>\n",
       "    <tr>\n",
       "      <th>horsepower</th>\n",
       "      <td>0.076038</td>\n",
       "      <td>0.295772</td>\n",
       "      <td>0.371621</td>\n",
       "      <td>0.580309</td>\n",
       "      <td>0.615315</td>\n",
       "      <td>-0.087407</td>\n",
       "      <td>0.758063</td>\n",
       "      <td>0.822713</td>\n",
       "      <td>0.568527</td>\n",
       "      <td>0.100040</td>\n",
       "      <td>-0.214576</td>\n",
       "      <td>1.000000</td>\n",
       "      <td>0.107882</td>\n",
       "      <td>-0.822617</td>\n",
       "      <td>-0.804596</td>\n",
       "      <td>0.810533</td>\n",
       "    </tr>\n",
       "    <tr>\n",
       "      <th>peak-rpm</th>\n",
       "      <td>0.280635</td>\n",
       "      <td>0.264597</td>\n",
       "      <td>-0.360593</td>\n",
       "      <td>-0.286321</td>\n",
       "      <td>-0.245975</td>\n",
       "      <td>-0.311574</td>\n",
       "      <td>-0.279375</td>\n",
       "      <td>-0.256773</td>\n",
       "      <td>-0.277662</td>\n",
       "      <td>-0.068300</td>\n",
       "      <td>-0.436015</td>\n",
       "      <td>0.107882</td>\n",
       "      <td>1.000000</td>\n",
       "      <td>-0.115425</td>\n",
       "      <td>-0.058606</td>\n",
       "      <td>-0.101649</td>\n",
       "    </tr>\n",
       "    <tr>\n",
       "      <th>city-mpg</th>\n",
       "      <td>-0.035527</td>\n",
       "      <td>-0.258502</td>\n",
       "      <td>-0.470606</td>\n",
       "      <td>-0.665192</td>\n",
       "      <td>-0.633531</td>\n",
       "      <td>-0.049800</td>\n",
       "      <td>-0.749543</td>\n",
       "      <td>-0.650546</td>\n",
       "      <td>-0.592655</td>\n",
       "      <td>-0.034696</td>\n",
       "      <td>0.331425</td>\n",
       "      <td>-0.822617</td>\n",
       "      <td>-0.115425</td>\n",
       "      <td>1.000000</td>\n",
       "      <td>0.972044</td>\n",
       "      <td>-0.686571</td>\n",
       "    </tr>\n",
       "    <tr>\n",
       "      <th>highway-mpg</th>\n",
       "      <td>0.036233</td>\n",
       "      <td>-0.210768</td>\n",
       "      <td>-0.543304</td>\n",
       "      <td>-0.698142</td>\n",
       "      <td>-0.680635</td>\n",
       "      <td>-0.104812</td>\n",
       "      <td>-0.794889</td>\n",
       "      <td>-0.679571</td>\n",
       "      <td>-0.599218</td>\n",
       "      <td>-0.035201</td>\n",
       "      <td>0.268465</td>\n",
       "      <td>-0.804596</td>\n",
       "      <td>-0.058606</td>\n",
       "      <td>0.972044</td>\n",
       "      <td>1.000000</td>\n",
       "      <td>-0.704692</td>\n",
       "    </tr>\n",
       "    <tr>\n",
       "      <th>price</th>\n",
       "      <td>-0.082391</td>\n",
       "      <td>0.203254</td>\n",
       "      <td>0.584642</td>\n",
       "      <td>0.690628</td>\n",
       "      <td>0.751265</td>\n",
       "      <td>0.135486</td>\n",
       "      <td>0.834415</td>\n",
       "      <td>0.872335</td>\n",
       "      <td>0.543436</td>\n",
       "      <td>0.082310</td>\n",
       "      <td>0.071107</td>\n",
       "      <td>0.810533</td>\n",
       "      <td>-0.101649</td>\n",
       "      <td>-0.686571</td>\n",
       "      <td>-0.704692</td>\n",
       "      <td>1.000000</td>\n",
       "    </tr>\n",
       "  </tbody>\n",
       "</table>\n",
       "</div>"
      ],
      "text/plain": [
       "                   symboling  normalized-losses  wheel-base    length  \\\n",
       "symboling           1.000000           0.528667   -0.535987 -0.365404   \n",
       "normalized-losses   0.528667           1.000000   -0.074362  0.023220   \n",
       "wheel-base         -0.535987          -0.074362    1.000000  0.876024   \n",
       "length             -0.365404           0.023220    0.876024  1.000000   \n",
       "width              -0.242423           0.105073    0.814507  0.857170   \n",
       "height             -0.550160          -0.432335    0.590742  0.492063   \n",
       "curb-weight        -0.233118           0.119893    0.782097  0.880665   \n",
       "engine-size        -0.110581           0.167365    0.572027  0.685025   \n",
       "bore               -0.144324          -0.036167    0.494884  0.610051   \n",
       "stroke             -0.008245           0.065627    0.158502  0.124139   \n",
       "compression-ratio  -0.182196          -0.132654    0.250313  0.159733   \n",
       "horsepower          0.076038           0.295772    0.371621  0.580309   \n",
       "peak-rpm            0.280635           0.264597   -0.360593 -0.286321   \n",
       "city-mpg           -0.035527          -0.258502   -0.470606 -0.665192   \n",
       "highway-mpg         0.036233          -0.210768   -0.543304 -0.698142   \n",
       "price              -0.082391           0.203254    0.584642  0.690628   \n",
       "\n",
       "                      width    height  curb-weight  engine-size      bore  \\\n",
       "symboling         -0.242423 -0.550160    -0.233118    -0.110581 -0.144324   \n",
       "normalized-losses  0.105073 -0.432335     0.119893     0.167365 -0.036167   \n",
       "wheel-base         0.814507  0.590742     0.782097     0.572027  0.494884   \n",
       "length             0.857170  0.492063     0.880665     0.685025  0.610051   \n",
       "width              1.000000  0.306002     0.866201     0.729436  0.544924   \n",
       "height             0.306002  1.000000     0.307581     0.074694  0.185907   \n",
       "curb-weight        0.866201  0.307581     1.000000     0.849072  0.644617   \n",
       "engine-size        0.729436  0.074694     0.849072     1.000000  0.582857   \n",
       "bore               0.544924  0.185907     0.644617     0.582857  1.000000   \n",
       "stroke             0.188829 -0.062704     0.167562     0.209523 -0.055390   \n",
       "compression-ratio  0.189867  0.259737     0.156433     0.028889  0.001250   \n",
       "horsepower         0.615315 -0.087407     0.758063     0.822713  0.568527   \n",
       "peak-rpm          -0.245975 -0.311574    -0.279375    -0.256773 -0.277662   \n",
       "city-mpg          -0.633531 -0.049800    -0.749543    -0.650546 -0.592655   \n",
       "highway-mpg       -0.680635 -0.104812    -0.794889    -0.679571 -0.599218   \n",
       "price              0.751265  0.135486     0.834415     0.872335  0.543436   \n",
       "\n",
       "                     stroke  compression-ratio  horsepower  peak-rpm  \\\n",
       "symboling         -0.008245          -0.182196    0.076038  0.280635   \n",
       "normalized-losses  0.065627          -0.132654    0.295772  0.264597   \n",
       "wheel-base         0.158502           0.250313    0.371621 -0.360593   \n",
       "length             0.124139           0.159733    0.580309 -0.286321   \n",
       "width              0.188829           0.189867    0.615315 -0.245975   \n",
       "height            -0.062704           0.259737   -0.087407 -0.311574   \n",
       "curb-weight        0.167562           0.156433    0.758063 -0.279375   \n",
       "engine-size        0.209523           0.028889    0.822713 -0.256773   \n",
       "bore              -0.055390           0.001250    0.568527 -0.277662   \n",
       "stroke             1.000000           0.187923    0.100040 -0.068300   \n",
       "compression-ratio  0.187923           1.000000   -0.214576 -0.436015   \n",
       "horsepower         0.100040          -0.214576    1.000000  0.107882   \n",
       "peak-rpm          -0.068300          -0.436015    0.107882  1.000000   \n",
       "city-mpg          -0.034696           0.331425   -0.822617 -0.115425   \n",
       "highway-mpg       -0.035201           0.268465   -0.804596 -0.058606   \n",
       "price              0.082310           0.071107    0.810533 -0.101649   \n",
       "\n",
       "                   city-mpg  highway-mpg     price  \n",
       "symboling         -0.035527     0.036233 -0.082391  \n",
       "normalized-losses -0.258502    -0.210768  0.203254  \n",
       "wheel-base        -0.470606    -0.543304  0.584642  \n",
       "length            -0.665192    -0.698142  0.690628  \n",
       "width             -0.633531    -0.680635  0.751265  \n",
       "height            -0.049800    -0.104812  0.135486  \n",
       "curb-weight       -0.749543    -0.794889  0.834415  \n",
       "engine-size       -0.650546    -0.679571  0.872335  \n",
       "bore              -0.592655    -0.599218  0.543436  \n",
       "stroke            -0.034696    -0.035201  0.082310  \n",
       "compression-ratio  0.331425     0.268465  0.071107  \n",
       "horsepower        -0.822617    -0.804596  0.810533  \n",
       "peak-rpm          -0.115425    -0.058606 -0.101649  \n",
       "city-mpg           1.000000     0.972044 -0.686571  \n",
       "highway-mpg        0.972044     1.000000 -0.704692  \n",
       "price             -0.686571    -0.704692  1.000000  "
      ]
     },
     "execution_count": 29,
     "metadata": {},
     "output_type": "execute_result"
    }
   ],
   "source": [
    "df.corr()"
   ]
  },
  {
   "cell_type": "code",
   "execution_count": 1,
   "id": "3c3af837",
   "metadata": {},
   "outputs": [
    {
     "data": {
      "text/plain": [
       "'Multivariate analysis is done when there exists more than 3 dependent variables in the data considered for analysis it is used to determine relationships anmong vast datasets and analyse'"
      ]
     },
     "execution_count": 1,
     "metadata": {},
     "output_type": "execute_result"
    }
   ],
   "source": [
    "'''Multivariate analysis is done when there exists more than 3 dependent variables in the data considered for analysis it is used to determine relationships anmong vast datasets and analyse'''"
   ]
  },
  {
   "cell_type": "code",
   "execution_count": null,
   "id": "39988dca",
   "metadata": {},
   "outputs": [],
   "source": []
  }
 ],
 "metadata": {
  "kernelspec": {
   "display_name": "Python 3 (ipykernel)",
   "language": "python",
   "name": "python3"
  },
  "language_info": {
   "codemirror_mode": {
    "name": "ipython",
    "version": 3
   },
   "file_extension": ".py",
   "mimetype": "text/x-python",
   "name": "python",
   "nbconvert_exporter": "python",
   "pygments_lexer": "ipython3",
   "version": "3.9.12"
  }
 },
 "nbformat": 4,
 "nbformat_minor": 5
}
